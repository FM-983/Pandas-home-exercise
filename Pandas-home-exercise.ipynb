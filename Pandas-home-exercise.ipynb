{
 "cells": [
  {
   "cell_type": "code",
   "execution_count": 10,
   "id": "7e3fed27-e929-4f6f-9972-fbac14c49a27",
   "metadata": {},
   "outputs": [],
   "source": [
    "import numpy as np \n",
    "import pandas as pd "
   ]
  },
  {
   "cell_type": "code",
   "execution_count": 44,
   "id": "744506a6-cfdf-4020-a666-c372416b5dee",
   "metadata": {},
   "outputs": [],
   "source": [
    "# Use the following dataframes:\n",
    "products_df = pd.DataFrame({\n",
    "'Product_ID': [1, 2, 3],\n",
    "'Product_Name': ['iPhone 12', 'Samsung S21', 'Pixel 5'],\n",
    "'Product_Price': [999, 899, 699],\n",
    "})\n",
    "sales_df = pd.DataFrame({\n",
    "'Sale_ID': [1, 2, 3, 4, 5, 6, 7],\n",
    "'Sale_Date': pd.to_datetime(['2021-01-01', '2021-02-01', '2021-02-15','2020-03-01', '2020-04-01','2020-02-15', '2020-01-01']),\n",
    "'Customer_ID': [1, 2, 3, 2, 3, 4, 4],\n",
    "'Product_ID': [1, 1, 2, 2, 3, 3, 1],\n",
    "})\n",
    "customers_df = pd.DataFrame({\n",
    "'Customer_ID': [1, 2, 3, 4],\n",
    "'Customer_Name': ['John Doe', 'Jane Doe', 'Jim Brown', 'Jake Smith'],\n",
    "'Customer_Age': [25, 30, 35, 20],\n",
    "'Customer_Email': ['john@doe.com', 'jane@doe.com', 'jim@brown.com','jake@smith.com'],\n",
    "})\n"
   ]
  },
  {
   "cell_type": "code",
   "execution_count": 46,
   "id": "35e76697-c9ac-44df-92d5-2f152cd36ad9",
   "metadata": {},
   "outputs": [
    {
     "data": {
      "text/html": [
       "<div>\n",
       "<style scoped>\n",
       "    .dataframe tbody tr th:only-of-type {\n",
       "        vertical-align: middle;\n",
       "    }\n",
       "\n",
       "    .dataframe tbody tr th {\n",
       "        vertical-align: top;\n",
       "    }\n",
       "\n",
       "    .dataframe thead th {\n",
       "        text-align: right;\n",
       "    }\n",
       "</style>\n",
       "<table border=\"1\" class=\"dataframe\">\n",
       "  <thead>\n",
       "    <tr style=\"text-align: right;\">\n",
       "      <th></th>\n",
       "      <th>Product_ID</th>\n",
       "      <th>Product_Name</th>\n",
       "      <th>Product_Price</th>\n",
       "    </tr>\n",
       "  </thead>\n",
       "  <tbody>\n",
       "    <tr>\n",
       "      <th>0</th>\n",
       "      <td>1</td>\n",
       "      <td>iPhone 12</td>\n",
       "      <td>999</td>\n",
       "    </tr>\n",
       "    <tr>\n",
       "      <th>1</th>\n",
       "      <td>2</td>\n",
       "      <td>Samsung S21</td>\n",
       "      <td>899</td>\n",
       "    </tr>\n",
       "    <tr>\n",
       "      <th>2</th>\n",
       "      <td>3</td>\n",
       "      <td>Pixel 5</td>\n",
       "      <td>699</td>\n",
       "    </tr>\n",
       "  </tbody>\n",
       "</table>\n",
       "</div>"
      ],
      "text/plain": [
       "   Product_ID Product_Name  Product_Price\n",
       "0           1    iPhone 12            999\n",
       "1           2  Samsung S21            899\n",
       "2           3      Pixel 5            699"
      ]
     },
     "execution_count": 46,
     "metadata": {},
     "output_type": "execute_result"
    }
   ],
   "source": [
    "products_df"
   ]
  },
  {
   "cell_type": "code",
   "execution_count": 48,
   "id": "d4cebba6-7874-4872-be91-ee5f073ec682",
   "metadata": {
    "scrolled": true
   },
   "outputs": [
    {
     "data": {
      "text/html": [
       "<div>\n",
       "<style scoped>\n",
       "    .dataframe tbody tr th:only-of-type {\n",
       "        vertical-align: middle;\n",
       "    }\n",
       "\n",
       "    .dataframe tbody tr th {\n",
       "        vertical-align: top;\n",
       "    }\n",
       "\n",
       "    .dataframe thead th {\n",
       "        text-align: right;\n",
       "    }\n",
       "</style>\n",
       "<table border=\"1\" class=\"dataframe\">\n",
       "  <thead>\n",
       "    <tr style=\"text-align: right;\">\n",
       "      <th></th>\n",
       "      <th>Sale_ID</th>\n",
       "      <th>Sale_Date</th>\n",
       "      <th>Customer_ID</th>\n",
       "      <th>Product_ID</th>\n",
       "    </tr>\n",
       "  </thead>\n",
       "  <tbody>\n",
       "    <tr>\n",
       "      <th>0</th>\n",
       "      <td>1</td>\n",
       "      <td>2021-01-01</td>\n",
       "      <td>1</td>\n",
       "      <td>1</td>\n",
       "    </tr>\n",
       "    <tr>\n",
       "      <th>1</th>\n",
       "      <td>2</td>\n",
       "      <td>2021-02-01</td>\n",
       "      <td>2</td>\n",
       "      <td>1</td>\n",
       "    </tr>\n",
       "    <tr>\n",
       "      <th>2</th>\n",
       "      <td>3</td>\n",
       "      <td>2021-02-15</td>\n",
       "      <td>3</td>\n",
       "      <td>2</td>\n",
       "    </tr>\n",
       "    <tr>\n",
       "      <th>3</th>\n",
       "      <td>4</td>\n",
       "      <td>2020-03-01</td>\n",
       "      <td>2</td>\n",
       "      <td>2</td>\n",
       "    </tr>\n",
       "    <tr>\n",
       "      <th>4</th>\n",
       "      <td>5</td>\n",
       "      <td>2020-04-01</td>\n",
       "      <td>3</td>\n",
       "      <td>3</td>\n",
       "    </tr>\n",
       "    <tr>\n",
       "      <th>5</th>\n",
       "      <td>6</td>\n",
       "      <td>2020-02-15</td>\n",
       "      <td>4</td>\n",
       "      <td>3</td>\n",
       "    </tr>\n",
       "    <tr>\n",
       "      <th>6</th>\n",
       "      <td>7</td>\n",
       "      <td>2020-01-01</td>\n",
       "      <td>4</td>\n",
       "      <td>1</td>\n",
       "    </tr>\n",
       "  </tbody>\n",
       "</table>\n",
       "</div>"
      ],
      "text/plain": [
       "   Sale_ID  Sale_Date  Customer_ID  Product_ID\n",
       "0        1 2021-01-01            1           1\n",
       "1        2 2021-02-01            2           1\n",
       "2        3 2021-02-15            3           2\n",
       "3        4 2020-03-01            2           2\n",
       "4        5 2020-04-01            3           3\n",
       "5        6 2020-02-15            4           3\n",
       "6        7 2020-01-01            4           1"
      ]
     },
     "execution_count": 48,
     "metadata": {},
     "output_type": "execute_result"
    }
   ],
   "source": [
    "sales_df"
   ]
  },
  {
   "cell_type": "code",
   "execution_count": 50,
   "id": "f2233e7c-c66f-4f30-a600-e9ad69c1330e",
   "metadata": {},
   "outputs": [
    {
     "data": {
      "text/html": [
       "<div>\n",
       "<style scoped>\n",
       "    .dataframe tbody tr th:only-of-type {\n",
       "        vertical-align: middle;\n",
       "    }\n",
       "\n",
       "    .dataframe tbody tr th {\n",
       "        vertical-align: top;\n",
       "    }\n",
       "\n",
       "    .dataframe thead th {\n",
       "        text-align: right;\n",
       "    }\n",
       "</style>\n",
       "<table border=\"1\" class=\"dataframe\">\n",
       "  <thead>\n",
       "    <tr style=\"text-align: right;\">\n",
       "      <th></th>\n",
       "      <th>Customer_ID</th>\n",
       "      <th>Customer_Name</th>\n",
       "      <th>Customer_Age</th>\n",
       "      <th>Customer_Email</th>\n",
       "    </tr>\n",
       "  </thead>\n",
       "  <tbody>\n",
       "    <tr>\n",
       "      <th>0</th>\n",
       "      <td>1</td>\n",
       "      <td>John Doe</td>\n",
       "      <td>25</td>\n",
       "      <td>john@doe.com</td>\n",
       "    </tr>\n",
       "    <tr>\n",
       "      <th>1</th>\n",
       "      <td>2</td>\n",
       "      <td>Jane Doe</td>\n",
       "      <td>30</td>\n",
       "      <td>jane@doe.com</td>\n",
       "    </tr>\n",
       "    <tr>\n",
       "      <th>2</th>\n",
       "      <td>3</td>\n",
       "      <td>Jim Brown</td>\n",
       "      <td>35</td>\n",
       "      <td>jim@brown.com</td>\n",
       "    </tr>\n",
       "    <tr>\n",
       "      <th>3</th>\n",
       "      <td>4</td>\n",
       "      <td>Jake Smith</td>\n",
       "      <td>20</td>\n",
       "      <td>jake@smith.com</td>\n",
       "    </tr>\n",
       "  </tbody>\n",
       "</table>\n",
       "</div>"
      ],
      "text/plain": [
       "   Customer_ID Customer_Name  Customer_Age  Customer_Email\n",
       "0            1      John Doe            25    john@doe.com\n",
       "1            2      Jane Doe            30    jane@doe.com\n",
       "2            3     Jim Brown            35   jim@brown.com\n",
       "3            4    Jake Smith            20  jake@smith.com"
      ]
     },
     "execution_count": 50,
     "metadata": {},
     "output_type": "execute_result"
    }
   ],
   "source": [
    "customers_df"
   ]
  },
  {
   "cell_type": "markdown",
   "id": "f5f16022-5166-47c5-9ca3-faa6819b5e63",
   "metadata": {},
   "source": [
    "- Having the products_df and sales_df, merge both dataframes using\n",
    "'Product_ID' as the key. Once you have it, display only the Sale_ID,\n",
    "Product_Name and Product_Price columns."
   ]
  },
  {
   "cell_type": "code",
   "execution_count": 53,
   "id": "ffb428dd-ede0-44ad-bd92-0a3f97fc956b",
   "metadata": {},
   "outputs": [
    {
     "data": {
      "text/html": [
       "<div>\n",
       "<style scoped>\n",
       "    .dataframe tbody tr th:only-of-type {\n",
       "        vertical-align: middle;\n",
       "    }\n",
       "\n",
       "    .dataframe tbody tr th {\n",
       "        vertical-align: top;\n",
       "    }\n",
       "\n",
       "    .dataframe thead th {\n",
       "        text-align: right;\n",
       "    }\n",
       "</style>\n",
       "<table border=\"1\" class=\"dataframe\">\n",
       "  <thead>\n",
       "    <tr style=\"text-align: right;\">\n",
       "      <th></th>\n",
       "      <th>Sale_ID</th>\n",
       "      <th>Product_Name</th>\n",
       "      <th>Product_Price</th>\n",
       "    </tr>\n",
       "  </thead>\n",
       "  <tbody>\n",
       "    <tr>\n",
       "      <th>0</th>\n",
       "      <td>1</td>\n",
       "      <td>iPhone 12</td>\n",
       "      <td>999</td>\n",
       "    </tr>\n",
       "    <tr>\n",
       "      <th>1</th>\n",
       "      <td>2</td>\n",
       "      <td>iPhone 12</td>\n",
       "      <td>999</td>\n",
       "    </tr>\n",
       "    <tr>\n",
       "      <th>2</th>\n",
       "      <td>7</td>\n",
       "      <td>iPhone 12</td>\n",
       "      <td>999</td>\n",
       "    </tr>\n",
       "    <tr>\n",
       "      <th>3</th>\n",
       "      <td>3</td>\n",
       "      <td>Samsung S21</td>\n",
       "      <td>899</td>\n",
       "    </tr>\n",
       "    <tr>\n",
       "      <th>4</th>\n",
       "      <td>4</td>\n",
       "      <td>Samsung S21</td>\n",
       "      <td>899</td>\n",
       "    </tr>\n",
       "    <tr>\n",
       "      <th>5</th>\n",
       "      <td>5</td>\n",
       "      <td>Pixel 5</td>\n",
       "      <td>699</td>\n",
       "    </tr>\n",
       "    <tr>\n",
       "      <th>6</th>\n",
       "      <td>6</td>\n",
       "      <td>Pixel 5</td>\n",
       "      <td>699</td>\n",
       "    </tr>\n",
       "  </tbody>\n",
       "</table>\n",
       "</div>"
      ],
      "text/plain": [
       "   Sale_ID Product_Name  Product_Price\n",
       "0        1    iPhone 12            999\n",
       "1        2    iPhone 12            999\n",
       "2        7    iPhone 12            999\n",
       "3        3  Samsung S21            899\n",
       "4        4  Samsung S21            899\n",
       "5        5      Pixel 5            699\n",
       "6        6      Pixel 5            699"
      ]
     },
     "execution_count": 53,
     "metadata": {},
     "output_type": "execute_result"
    }
   ],
   "source": [
    "merge_df = pd.merge(products_df,sales_df, on= \"Product_ID\" , how= \"inner\")\n",
    "merge_df[[\"Sale_ID\",\"Product_Name\",\"Product_Price\"]]"
   ]
  },
  {
   "cell_type": "markdown",
   "id": "b2defce9-f136-4999-b40b-2e9b425e388c",
   "metadata": {},
   "source": [
    "3) Add the following additional dataframes:\n",
    "\"\"\"\n",
    "\n",
    "apple_products_df = pd.DataFrame({\n",
    "    'Product_ID': [4, 5],\n",
    "    'Product_Name': ['iPhone 13', 'Apple Watch Series 6'],\n",
    "    'Product_Price': [999, 399],\n",
    "})\n",
    "\n",
    "samsung_products_df = pd.DataFrame({\n",
    "    'Product_ID': [6, 7],\n",
    "    'Product_Name': ['Samsung S22', 'Galaxy Watch 4'],\n",
    "    'Product_Price': [999, 250],\n",
    "})\n",
    "\n",
    "- Concatenate these dataframes with the original products_df and show the\n",
    "final dataframe. Use a copy() and don’t change the original products_df."
   ]
  },
  {
   "cell_type": "code",
   "execution_count": 56,
   "id": "ee21fa3d-3852-454e-8e0c-329f22256555",
   "metadata": {},
   "outputs": [],
   "source": [
    "apple_products_df = pd.DataFrame({\n",
    "    'Product_ID': [4, 5],\n",
    "    'Product_Name': ['iPhone 13', 'Apple Watch Series 6'],\n",
    "    'Product_Price': [999, 399],\n",
    "})\n",
    "\n",
    "samsung_products_df = pd.DataFrame({\n",
    "    'Product_ID': [6, 7],\n",
    "    'Product_Name': ['Samsung S22', 'Galaxy Watch 4'],\n",
    "    'Product_Price': [999, 250],\n",
    "})"
   ]
  },
  {
   "cell_type": "code",
   "execution_count": 58,
   "id": "5ea0ed13-1fe6-4925-916b-6e785a0d433e",
   "metadata": {},
   "outputs": [
    {
     "data": {
      "text/html": [
       "<div>\n",
       "<style scoped>\n",
       "    .dataframe tbody tr th:only-of-type {\n",
       "        vertical-align: middle;\n",
       "    }\n",
       "\n",
       "    .dataframe tbody tr th {\n",
       "        vertical-align: top;\n",
       "    }\n",
       "\n",
       "    .dataframe thead th {\n",
       "        text-align: right;\n",
       "    }\n",
       "</style>\n",
       "<table border=\"1\" class=\"dataframe\">\n",
       "  <thead>\n",
       "    <tr style=\"text-align: right;\">\n",
       "      <th></th>\n",
       "      <th>Product_ID</th>\n",
       "      <th>Product_Name</th>\n",
       "      <th>Product_Price</th>\n",
       "    </tr>\n",
       "  </thead>\n",
       "  <tbody>\n",
       "    <tr>\n",
       "      <th>0</th>\n",
       "      <td>1</td>\n",
       "      <td>iPhone 12</td>\n",
       "      <td>999</td>\n",
       "    </tr>\n",
       "    <tr>\n",
       "      <th>1</th>\n",
       "      <td>2</td>\n",
       "      <td>Samsung S21</td>\n",
       "      <td>899</td>\n",
       "    </tr>\n",
       "    <tr>\n",
       "      <th>2</th>\n",
       "      <td>3</td>\n",
       "      <td>Pixel 5</td>\n",
       "      <td>699</td>\n",
       "    </tr>\n",
       "    <tr>\n",
       "      <th>0</th>\n",
       "      <td>4</td>\n",
       "      <td>iPhone 13</td>\n",
       "      <td>999</td>\n",
       "    </tr>\n",
       "    <tr>\n",
       "      <th>1</th>\n",
       "      <td>5</td>\n",
       "      <td>Apple Watch Series 6</td>\n",
       "      <td>399</td>\n",
       "    </tr>\n",
       "    <tr>\n",
       "      <th>0</th>\n",
       "      <td>6</td>\n",
       "      <td>Samsung S22</td>\n",
       "      <td>999</td>\n",
       "    </tr>\n",
       "    <tr>\n",
       "      <th>1</th>\n",
       "      <td>7</td>\n",
       "      <td>Galaxy Watch 4</td>\n",
       "      <td>250</td>\n",
       "    </tr>\n",
       "  </tbody>\n",
       "</table>\n",
       "</div>"
      ],
      "text/plain": [
       "   Product_ID          Product_Name  Product_Price\n",
       "0           1             iPhone 12            999\n",
       "1           2           Samsung S21            899\n",
       "2           3               Pixel 5            699\n",
       "0           4             iPhone 13            999\n",
       "1           5  Apple Watch Series 6            399\n",
       "0           6           Samsung S22            999\n",
       "1           7        Galaxy Watch 4            250"
      ]
     },
     "execution_count": 58,
     "metadata": {},
     "output_type": "execute_result"
    }
   ],
   "source": [
    "concat_df =  pd.concat([products_df,apple_products_df,samsung_products_df],axis=0).copy()\n",
    "concat_df"
   ]
  },
  {
   "cell_type": "markdown",
   "id": "2e0a7b82-7ff5-4268-a717-f68ad85f8156",
   "metadata": {},
   "source": [
    "4) With the resulting df from Exercise 1, group it by Product_Name and calculate\n",
    "the total Product_Price."
   ]
  },
  {
   "cell_type": "code",
   "execution_count": 34,
   "id": "6864bef8-bed3-4ae7-af96-f9b9f6a69b94",
   "metadata": {},
   "outputs": [
    {
     "data": {
      "text/plain": [
       "Product_Name\n",
       "Apple Watch Series 6    399\n",
       "Galaxy Watch 4          250\n",
       "Pixel 5                 699\n",
       "Samsung S21             899\n",
       "Samsung S22             999\n",
       "iPhone 12               999\n",
       "iPhone 13               999\n",
       "Name: Product_Price, dtype: int64"
      ]
     },
     "execution_count": 34,
     "metadata": {},
     "output_type": "execute_result"
    }
   ],
   "source": [
    "all_products_df = pd.concat([products_df.copy(), apple_products_df, samsung_products_df], ignore_index=True)\n",
    "grouped_products = all_products_df.groupby('Product_Name')['Product_Price'].sum()\n",
    "grouped_products"
   ]
  },
  {
   "cell_type": "markdown",
   "id": "46fb9e36-d80c-48d7-a58e-d58da00b56e2",
   "metadata": {},
   "source": [
    "5) In the customers_df dataframe, set 'Customer_ID' and 'Customer_Email' as\n",
    "indexes (multi indexing).\n",
    "After that, display all the customers whose ID is less than 3."
   ]
  },
  {
   "cell_type": "code",
   "execution_count": 62,
   "id": "49100621-2709-4a59-b291-c1cb7ab7bd19",
   "metadata": {},
   "outputs": [
    {
     "name": "stdout",
     "output_type": "stream",
     "text": [
      "                           Customer_Name  Customer_Age\n",
      "Customer_ID Customer_Email                            \n",
      "1           john@doe.com        John Doe            25\n",
      "2           jane@doe.com        Jane Doe            30\n",
      "3           jim@brown.com      Jim Brown            35\n",
      "4           jake@smith.com    Jake Smith            20\n",
      "                           Customer_Name  Customer_Age\n",
      "Customer_ID Customer_Email                            \n",
      "1           john@doe.com        John Doe            25\n",
      "2           jane@doe.com        Jane Doe            30\n"
     ]
    }
   ],
   "source": [
    "customers_df = customers_df.set_index(['Customer_ID', 'Customer_Email'])\n",
    "print(customers_df)\n",
    "\n",
    "customers_less_than_3 = customers_df.loc[customers_df.index.get_level_values('Customer_ID') < 3]\n",
    "print(customers_less_than_3)"
   ]
  },
  {
   "cell_type": "markdown",
   "id": "039eeb5f-4a74-4ca1-bfa5-f29792efc0a4",
   "metadata": {},
   "source": [
    "6) Use merge, groupby, and other necessary functions to answer these\n",
    "questions:\n",
    "-    a. Which customer(s) bought the most expensive product?\n",
    "-    b. On which date did we get the highest number of sales?\n",
    "-    c. What is the average price of the products purchased by each customer?\n",
    "Remember to use multi-indexing, groupby, and date-time concepts wherever\n",
    "necessary."
   ]
  },
  {
   "cell_type": "code",
   "execution_count": 66,
   "id": "9372e50b-acd7-4aee-aa68-9110be92ccc5",
   "metadata": {},
   "outputs": [
    {
     "name": "stdout",
     "output_type": "stream",
     "text": [
      "Customer(s) who bought the most expensive product (iPhone 12):\n",
      "['John Doe' 'Jane Doe' 'Jake Smith']\n"
     ]
    }
   ],
   "source": [
    "# A\n",
    "most_expensive_product_price = products_df['Product_Price'].max()\n",
    "most_expensive_product_name = products_df.loc[products_df['Product_Price'] == most_expensive_product_price, 'Product_Name'].iloc[0]\n",
    "\n",
    "customers_most_expensive = pd.merge(merge_df, customers_df.reset_index(), on='Customer_ID')\n",
    "customers_most_expensive = customers_most_expensive[customers_most_expensive['Product_Name'] == most_expensive_product_name]\n",
    "print(f\"Customer(s) who bought the most expensive product ({most_expensive_product_name}):\")\n",
    "print(customers_most_expensive['Customer_Name'].unique())"
   ]
  },
  {
   "cell_type": "code",
   "execution_count": 68,
   "id": "66fd978e-3b30-4c30-8280-bd0866a4e698",
   "metadata": {},
   "outputs": [
    {
     "name": "stdout",
     "output_type": "stream",
     "text": [
      "Date with the highest number of sales: 2020-01-01 00:00:00\n"
     ]
    }
   ],
   "source": [
    "# B\n",
    "sales_count_by_date = sales_df.groupby('Sale_Date')['Sale_ID'].count()\n",
    "highest_sales_date = sales_count_by_date.idxmax()\n",
    "print(f\"Date with the highest number of sales: {highest_sales_date}\")"
   ]
  },
  {
   "cell_type": "code",
   "execution_count": 72,
   "id": "9feec24e-304b-4d92-87b2-ff9929552225",
   "metadata": {},
   "outputs": [
    {
     "name": "stdout",
     "output_type": "stream",
     "text": [
      "Average price of products purchased by each customer:\n",
      "Customer_ID\n",
      "1    999.0\n",
      "2    949.0\n",
      "3    799.0\n",
      "4    849.0\n",
      "Name: Product_Price, dtype: float64\n"
     ]
    }
   ],
   "source": [
    "# C \n",
    "average_price_by_customer = merge_df.groupby('Customer_ID')['Product_Price'].mean()\n",
    "print(f\"Average price of products purchased by each customer:\\n{average_price_by_customer}\")"
   ]
  }
 ],
 "metadata": {
  "kernelspec": {
   "display_name": "Python 3 (ipykernel)",
   "language": "python",
   "name": "python3"
  },
  "language_info": {
   "codemirror_mode": {
    "name": "ipython",
    "version": 3
   },
   "file_extension": ".py",
   "mimetype": "text/x-python",
   "name": "python",
   "nbconvert_exporter": "python",
   "pygments_lexer": "ipython3",
   "version": "3.12.7"
  }
 },
 "nbformat": 4,
 "nbformat_minor": 5
}
